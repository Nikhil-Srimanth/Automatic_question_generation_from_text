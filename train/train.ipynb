{
 "cells": [
  {
   "cell_type": "code",
   "execution_count": 2,
   "id": "5e5f60fd",
   "metadata": {},
   "outputs": [
    {
     "data": {
      "text/html": [
       "<div>\n",
       "<style scoped>\n",
       "    .dataframe tbody tr th:only-of-type {\n",
       "        vertical-align: middle;\n",
       "    }\n",
       "\n",
       "    .dataframe tbody tr th {\n",
       "        vertical-align: top;\n",
       "    }\n",
       "\n",
       "    .dataframe thead th {\n",
       "        text-align: right;\n",
       "    }\n",
       "</style>\n",
       "<table border=\"1\" class=\"dataframe\">\n",
       "  <thead>\n",
       "    <tr style=\"text-align: right;\">\n",
       "      <th></th>\n",
       "      <th>answers</th>\n",
       "      <th>query</th>\n",
       "      <th>finalpassage</th>\n",
       "    </tr>\n",
       "  </thead>\n",
       "  <tbody>\n",
       "    <tr>\n",
       "      <th>0</th>\n",
       "      <td>Start around $5,000.</td>\n",
       "      <td>average kitchen cabinet remodel cost</td>\n",
       "      <td>1 In contrast, DoItYourself.com estimates that...</td>\n",
       "    </tr>\n",
       "    <tr>\n",
       "      <th>1</th>\n",
       "      <td>Jurassic World Evolution will launch during th...</td>\n",
       "      <td>when is jurassic world evolution coming out</td>\n",
       "      <td>JURASSIC WORLD EVOLUTION Trailer #2 (2018) Jur...</td>\n",
       "    </tr>\n",
       "    <tr>\n",
       "      <th>2</th>\n",
       "      <td>A fingerprint recognition feature.</td>\n",
       "      <td>what iphone introduced touch id</td>\n",
       "      <td>With an iPhone 6 or iPhone 6 Plus or later, yo...</td>\n",
       "    </tr>\n",
       "    <tr>\n",
       "      <th>3</th>\n",
       "      <td>foods contained hemoglobin</td>\n",
       "      <td>where does iron come from from food?</td>\n",
       "      <td>There are two forms of dietary iron: heme and ...</td>\n",
       "    </tr>\n",
       "    <tr>\n",
       "      <th>4</th>\n",
       "      <td>Yes, thinning vocal cords cause hoarseness.</td>\n",
       "      <td>can thinning vocal cords cause hoarseness</td>\n",
       "      <td>When you talk or sing, the vocal cords vibrate...</td>\n",
       "    </tr>\n",
       "  </tbody>\n",
       "</table>\n",
       "</div>"
      ],
      "text/plain": [
       "                                             answers  \\\n",
       "0                               Start around $5,000.   \n",
       "1  Jurassic World Evolution will launch during th...   \n",
       "2                 A fingerprint recognition feature.   \n",
       "3                         foods contained hemoglobin   \n",
       "4        Yes, thinning vocal cords cause hoarseness.   \n",
       "\n",
       "                                         query  \\\n",
       "0         average kitchen cabinet remodel cost   \n",
       "1  when is jurassic world evolution coming out   \n",
       "2              what iphone introduced touch id   \n",
       "3         where does iron come from from food?   \n",
       "4    can thinning vocal cords cause hoarseness   \n",
       "\n",
       "                                        finalpassage  \n",
       "0  1 In contrast, DoItYourself.com estimates that...  \n",
       "1  JURASSIC WORLD EVOLUTION Trailer #2 (2018) Jur...  \n",
       "2  With an iPhone 6 or iPhone 6 Plus or later, yo...  \n",
       "3  There are two forms of dietary iron: heme and ...  \n",
       "4  When you talk or sing, the vocal cords vibrate...  "
      ]
     },
     "execution_count": 2,
     "metadata": {},
     "output_type": "execute_result"
    }
   ],
   "source": [
    "import pandas as pd\n",
    "df = pd.read_csv('train.csv')\n",
    "df.head()"
   ]
  },
  {
   "cell_type": "code",
   "execution_count": 3,
   "id": "01af5402",
   "metadata": {},
   "outputs": [
    {
     "data": {
      "text/plain": [
       "'1 In contrast, DoItYourself.com estimates that the cost of a typical kitchen remodel can start around $5,000 with some do-it-yourself work included, and averages $15,000-$26,000. 1 These are averages; actual costs may be higher or lower. 2 The cost of remodeling a kitchen can vary widely depending on the size and scope of your project, with the national average coming in around $17,000 and most homeowners spending between $12,000 and $19,000. This guide can help estimate your costs and give you a starting point for various upgrades and services. The average cost of a complete kitchen remodel will run anywhere from a low of $7,504 all the way to the maximum of $40,000.'"
      ]
     },
     "execution_count": 3,
     "metadata": {},
     "output_type": "execute_result"
    }
   ],
   "source": [
    "df['finalpassage'][0]"
   ]
  },
  {
   "cell_type": "code",
   "execution_count": 4,
   "id": "34135e23",
   "metadata": {},
   "outputs": [],
   "source": [
    "from sklearn.model_selection import train_test_split\n",
    "import pandas as pd\n",
    "\n",
    "df = pd.read_csv('train.csv')\n",
    "\n",
    "train, temp = train_test_split(df, test_size=0.2, random_state=42)\n",
    "val, test = train_test_split(temp, test_size=0.5, random_state=42)\n",
    "\n",
    "train.to_csv('train.csv', index=False)\n",
    "val.to_csv('val.csv', index=False)\n",
    "test.to_csv('test.csv', index=False)\n"
   ]
  },
  {
   "cell_type": "code",
   "execution_count": 11,
   "id": "bb22f695",
   "metadata": {},
   "outputs": [
    {
     "name": "stderr",
     "output_type": "stream",
     "text": [
      "Map: 100%|██████████| 1000/1000 [00:00<00:00, 1405.57 examples/s]\n",
      "Map: 100%|██████████| 200/200 [00:00<00:00, 991.03 examples/s] \n"
     ]
    }
   ],
   "source": [
    "from datasets import load_dataset\n",
    "from transformers import T5Tokenizer, T5ForConditionalGeneration, Trainer, TrainingArguments\n",
    "\n",
    "import pandas as pd\n",
    "from datasets import Dataset\n",
    "\n",
    "train_df = pd.read_csv('train.csv')\n",
    "val_df = pd.read_csv('val.csv')\n",
    "\n",
    "train_df = train_df.dropna(subset=['finalpassage','query'])\n",
    "val_df = val_df.dropna(subset=['finalpassage','query'])\n",
    "\n",
    "train_df = train_df.sample(1000, random_state=42)\n",
    "val_df = val_df.sample(200, random_state=42)\n",
    "\n",
    "def preprocess(df):\n",
    "    return Dataset.from_pandas(df[['finalpassage','query']])\n",
    "\n",
    "train_dataset = preprocess(train_df)\n",
    "val_dataset = preprocess(val_df)\n",
    "\n",
    "tokenizer = T5Tokenizer.from_pretrained('t5-small')\n",
    "\n",
    "def tokenize(batch):\n",
    "    passages = [p if p is not None else \"\" for p in batch['finalpassage']]\n",
    "    questions = [q if q is not None else \"\" for q in batch['query']]\n",
    "\n",
    "    source = [\"generate question: \" + p for p in passages]\n",
    "    target = questions\n",
    "\n",
    "    model_inputs = tokenizer(source, max_length=512, truncation=True, padding='max_length')\n",
    "    labels = tokenizer(target, max_length=64, truncation=True, padding='max_length')\n",
    "\n",
    "    model_inputs[\"labels\"] = labels[\"input_ids\"]\n",
    "    return model_inputs\n",
    "\n",
    "train_dataset = train_dataset.map(tokenize, batched=True)\n",
    "val_dataset = val_dataset.map(tokenize, batched=True)\n",
    "\n",
    "\n"
   ]
  },
  {
   "cell_type": "code",
   "execution_count": 13,
   "id": "baac4fe8",
   "metadata": {},
   "outputs": [
    {
     "name": "stderr",
     "output_type": "stream",
     "text": [
      "c:\\Users\\nikhi\\AppData\\Local\\Programs\\Python\\Python311\\Lib\\site-packages\\torch\\utils\\data\\dataloader.py:666: UserWarning: 'pin_memory' argument is set as true but no accelerator is found, then device pinned memory won't be used.\n",
      "  warnings.warn(warn_msg)\n"
     ]
    },
    {
     "data": {
      "text/html": [
       "\n",
       "    <div>\n",
       "      \n",
       "      <progress value='500' max='500' style='width:300px; height:20px; vertical-align: middle;'></progress>\n",
       "      [500/500 45:15, Epoch 2/2]\n",
       "    </div>\n",
       "    <table border=\"1\" class=\"dataframe\">\n",
       "  <thead>\n",
       " <tr style=\"text-align: left;\">\n",
       "      <th>Step</th>\n",
       "      <th>Training Loss</th>\n",
       "    </tr>\n",
       "  </thead>\n",
       "  <tbody>\n",
       "    <tr>\n",
       "      <td>500</td>\n",
       "      <td>0.455700</td>\n",
       "    </tr>\n",
       "  </tbody>\n",
       "</table><p>"
      ],
      "text/plain": [
       "<IPython.core.display.HTML object>"
      ]
     },
     "metadata": {},
     "output_type": "display_data"
    },
    {
     "data": {
      "text/plain": [
       "('./final_model_test\\\\tokenizer_config.json',\n",
       " './final_model_test\\\\special_tokens_map.json',\n",
       " './final_model_test\\\\spiece.model',\n",
       " './final_model_test\\\\added_tokens.json')"
      ]
     },
     "execution_count": 13,
     "metadata": {},
     "output_type": "execute_result"
    }
   ],
   "source": [
    "model = T5ForConditionalGeneration.from_pretrained('t5-small')\n",
    "\n",
    "training_args = TrainingArguments(\n",
    "    output_dir='./results',\n",
    "    learning_rate=3e-4,\n",
    "    per_device_train_batch_size=4,\n",
    "    per_device_eval_batch_size=4,\n",
    "    num_train_epochs=2,\n",
    "    weight_decay=0.01,\n",
    "    save_total_limit=2,\n",
    "    logging_dir='./logs',\n",
    ")\n",
    "\n",
    "\n",
    "trainer = Trainer(\n",
    "    model=model,\n",
    "    args=training_args,\n",
    "    train_dataset=train_dataset,\n",
    "    eval_dataset=val_dataset,\n",
    ")\n",
    "\n",
    "trainer.train()\n",
    "\n",
    "trainer.save_model(\"./final_model_test\")\n",
    "tokenizer.save_pretrained(\"./final_model_test\")\n"
   ]
  },
  {
   "cell_type": "code",
   "execution_count": 6,
   "id": "e56aef5c",
   "metadata": {},
   "outputs": [
    {
     "name": "stderr",
     "output_type": "stream",
     "text": [
      "Device set to use cpu\n"
     ]
    },
    {
     "name": "stdout",
     "output_type": "stream",
     "text": [
      "what is the sun at the center of the solar system\n"
     ]
    }
   ],
   "source": [
    "from transformers import AutoTokenizer, AutoModelForSeq2SeqLM, pipeline\n",
    "\n",
    "model_path = \"./final_model_test\"\n",
    "\n",
    "tokenizer = AutoTokenizer.from_pretrained(model_path)\n",
    "model = AutoModelForSeq2SeqLM.from_pretrained(model_path)\n",
    "\n",
    "qg_pipeline = pipeline(\n",
    "    \"text2text-generation\",\n",
    "    model=model,\n",
    "    tokenizer=tokenizer\n",
    ")\n",
    "\n",
    "passage = \"The sun is the star at the center of the Solar System. It provides light and heat to the planets.\"\n",
    "\n",
    "result = qg_pipeline(\n",
    "    \"generate question: \" + passage,\n",
    "    max_new_tokens=64,\n",
    "    do_sample=False\n",
    ")\n",
    "\n",
    "print(result[0]['generated_text'])\n"
   ]
  }
 ],
 "metadata": {
  "kernelspec": {
   "display_name": "Python 3",
   "language": "python",
   "name": "python3"
  },
  "language_info": {
   "codemirror_mode": {
    "name": "ipython",
    "version": 3
   },
   "file_extension": ".py",
   "mimetype": "text/x-python",
   "name": "python",
   "nbconvert_exporter": "python",
   "pygments_lexer": "ipython3",
   "version": "3.11.0"
  }
 },
 "nbformat": 4,
 "nbformat_minor": 5
}
